{
 "cells": [
  {
   "cell_type": "code",
   "execution_count": 2,
   "id": "5917304a",
   "metadata": {},
   "outputs": [],
   "source": [
    "import numpy as np\n",
    "import matplotlib.pyplot as plt\n",
    "from graphviz import Digraph\n",
    "import scipy as sp"
   ]
  },
  {
   "cell_type": "code",
   "execution_count": 16,
   "id": "f5859eb4",
   "metadata": {},
   "outputs": [
    {
     "data": {
      "text/plain": [
       "'lecture2/SIR_demography_dag.png'"
      ]
     },
     "execution_count": 16,
     "metadata": {},
     "output_type": "execute_result"
    }
   ],
   "source": [
    "### SIR with demography\n",
    "\n",
    "sir_dag = Digraph('dag', graph_attr={'rankdir': 'LR'})\n",
    "\n",
    "#create main compartment nodes\n",
    "for compartment in ['S', 'I', 'R']:\n",
    "    sir_dag.node(compartment, compartment)\n",
    "\n",
    "#create ghost nodes\n",
    "sir_dag.node('birth_ghost', '', style = 'invis', shape = 'point')\n",
    "sir_dag.node('S_death_ghost', '', style = 'invis', shape = 'point')\n",
    "sir_dag.node('I_death_ghost', '', style = 'invis', shape = 'point')\n",
    "sir_dag.node('R_death_ghost', '', style = 'invis', shape = 'point')\n",
    "\n",
    "#define edges for main model\n",
    "sir_dag.edge('S', 'I', 'βSI', tailport = 'e', headport = 'w')\n",
    "sir_dag.edge('I', 'R', 'γI', tailport = 'e', headport = 'w')\n",
    "\n",
    "#define ghost edges for births and deaths\n",
    "sir_dag.edge('birth_ghost', 'S', 'BN', tailport = 'e', headport = 'w')\n",
    "sir_dag.edge('S', 'S_death_ghost', 'μS', tailport = 's', headport = 'n')\n",
    "sir_dag.edge('I', 'I_death_ghost', 'μI', tailport = 's', headport = 'n')\n",
    "sir_dag.edge('R', 'R_death_ghost', 'μR', tailport = 's', headport = 'n')\n",
    "\n",
    "\n",
    "sir_dag.render('./lecture2/SIR_demography_dag', format = 'png')\n"
   ]
  },
  {
   "cell_type": "markdown",
   "id": "a3bb829c",
   "metadata": {},
   "source": []
  }
 ],
 "metadata": {
  "kernelspec": {
   "display_name": "vcf_plotting",
   "language": "python",
   "name": "python3"
  },
  "language_info": {
   "codemirror_mode": {
    "name": "ipython",
    "version": 3
   },
   "file_extension": ".py",
   "mimetype": "text/x-python",
   "name": "python",
   "nbconvert_exporter": "python",
   "pygments_lexer": "ipython3",
   "version": "3.13.7"
  }
 },
 "nbformat": 4,
 "nbformat_minor": 5
}
